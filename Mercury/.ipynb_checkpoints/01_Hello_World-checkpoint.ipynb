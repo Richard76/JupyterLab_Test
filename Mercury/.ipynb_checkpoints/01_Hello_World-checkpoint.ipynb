{
 "cells": [
  {
   "cell_type": "code",
   "execution_count": 4,
   "id": "e21e1954-b89b-4630-abbf-bacc05584f5a",
   "metadata": {},
   "outputs": [],
   "source": [
    "\n",
    "import mercury as mr"
   ]
  },
  {
   "cell_type": "code",
   "execution_count": 5,
   "id": "9b72549c-0d6b-4e10-a65d-98637f96efaa",
   "metadata": {},
   "outputs": [
    {
     "data": {
      "application/mercury+json": "{\n    \"widget\": \"Text\",\n    \"value\": \"Piotr\",\n    \"rows\": 1,\n    \"label\": \"What is your name?\",\n    \"model_id\": \"3316783c0a7e4a63b9c578ffd9f21df4\",\n    \"code_uid\": \"Text.0.40.15.1-randaebf60cd\",\n    \"url_key\": \"\",\n    \"disabled\": false,\n    \"hidden\": false\n}",
      "application/vnd.jupyter.widget-view+json": {
       "model_id": "3316783c0a7e4a63b9c578ffd9f21df4",
       "version_major": 2,
       "version_minor": 0
      },
      "text/plain": [
       "mercury.Text"
      ]
     },
     "metadata": {},
     "output_type": "display_data"
    }
   ],
   "source": [
    "name = mr.Text(value=\"Piotr\", label=\"What is your name?\")"
   ]
  },
  {
   "cell_type": "code",
   "execution_count": null,
   "id": "7028a5dc-4ce2-443b-9cf6-288b9a9574e4",
   "metadata": {},
   "outputs": [],
   "source": [
    "print(f\"Hello {name.value}\")"
   ]
  }
 ],
 "metadata": {
  "kernelspec": {
   "display_name": "Python 3 (ipykernel)",
   "language": "python",
   "name": "python3"
  },
  "language_info": {
   "codemirror_mode": {
    "name": "ipython",
    "version": 3
   },
   "file_extension": ".py",
   "mimetype": "text/x-python",
   "name": "python",
   "nbconvert_exporter": "python",
   "pygments_lexer": "ipython3",
   "version": "3.9.12"
  }
 },
 "nbformat": 4,
 "nbformat_minor": 5
}
